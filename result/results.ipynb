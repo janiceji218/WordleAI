{
 "cells": [
  {
   "cell_type": "code",
   "execution_count": 1,
   "metadata": {},
   "outputs": [],
   "source": [
    "import pandas as pd\n",
    "from matplotlib import pyplot as plt\n"
   ]
  },
  {
   "cell_type": "code",
   "execution_count": 2,
   "metadata": {},
   "outputs": [
    {
     "name": "stdout",
     "output_type": "stream",
     "text": [
      "mean 3.6357730619315722\n",
      "words that used 6 guesses:\n",
      "mean 3.8657427457773927\n",
      "words that used 6 guesses:\n",
      "goner\n",
      "mammy\n",
      "vaunt\n",
      "watch\n",
      "wight\n"
     ]
    },
    {
     "data": {
      "image/png": "[encoded data removed]",
      "text/plain": [
       "<Figure size 432x288 with 1 Axes>"
      ]
     },
     "metadata": {
      "needs_background": "light"
     },
     "output_type": "display_data"
    }
   ],
   "source": [
    "def analyze(path):\n",
    "    df = pd.read_csv(path)\n",
    "    # plt.bar(df[\"guesses\"])\n",
    "    summary = df.groupby(\"guesses\").count()\n",
    "    # print(summary)\n",
    "    print(\"mean\", df.guesses.mean())\n",
    "    print(\"words that used 6 guesses:\")\n",
    "    for r in df[df[\"guesses\"]>=8][\"answer\"]:\n",
    "        print(r)\n",
    "    return summary\n",
    "\n",
    "path = \"Maximizing Information.csv\"\n",
    "info = analyze(path)\n",
    "path = \"Maximizing Green Letters.csv\"\n",
    "green = analyze(path)\n",
    "# info.hist(bins=5)\n",
    "# green.hist(bins=7)\n",
    "\n",
    "\n",
    "plt.bar(green[\"answer\"].index, green[\"answer\"].values/green[\"answer\"].values.sum(), alpha=0.3, label='Max Green')\n",
    "plt.axvline(x=3.8657427457773927, color='blue', ls=':', label='Mean - Green')\n",
    "plt.bar(info[\"answer\"].index, info[\"answer\"].values/green[\"answer\"].values.sum(), alpha=0.4, label='Max Info')\n",
    "plt.axvline(x=3.6357730619315722, color='red', ls=':', label='Mean - Info')\n",
    "# plt.hist(green[\"guesses\"], bins, rwidth=5/7, alpha=0.5, label='Max Green')\n",
    "plt.xlabel(\"Number of guesses\")\n",
    "plt.ylabel(\"Proportion of games\")\n",
    "plt.legend(loc='upper right')\n",
    "plt.show()\n"
   ]
  },
  {
   "cell_type": "code",
   "execution_count": 3,
   "metadata": {},
   "outputs": [
    {
     "data": {
      "text/html": [
       "<div>\n",
       "<style scoped>\n",
       "    .dataframe tbody tr th:only-of-type {\n",
       "        vertical-align: middle;\n",
       "    }\n",
       "\n",
       "    .dataframe tbody tr th {\n",
       "        vertical-align: top;\n",
       "    }\n",
       "\n",
       "    .dataframe thead th {\n",
       "        text-align: right;\n",
       "    }\n",
       "</style>\n",
       "<table border=\"1\" class=\"dataframe\">\n",
       "  <thead>\n",
       "    <tr style=\"text-align: right;\">\n",
       "      <th></th>\n",
       "      <th>answer</th>\n",
       "    </tr>\n",
       "    <tr>\n",
       "      <th>guesses</th>\n",
       "      <th></th>\n",
       "    </tr>\n",
       "  </thead>\n",
       "  <tbody>\n",
       "    <tr>\n",
       "      <th>2</th>\n",
       "      <td>22</td>\n",
       "    </tr>\n",
       "    <tr>\n",
       "      <th>3</th>\n",
       "      <td>900</td>\n",
       "    </tr>\n",
       "    <tr>\n",
       "      <th>4</th>\n",
       "      <td>1286</td>\n",
       "    </tr>\n",
       "    <tr>\n",
       "      <th>5</th>\n",
       "      <td>99</td>\n",
       "    </tr>\n",
       "    <tr>\n",
       "      <th>6</th>\n",
       "      <td>2</td>\n",
       "    </tr>\n",
       "  </tbody>\n",
       "</table>\n",
       "</div>"
      ],
      "text/plain": [
       "         answer\n",
       "guesses        \n",
       "2            22\n",
       "3           900\n",
       "4          1286\n",
       "5            99\n",
       "6             2"
      ]
     },
     "execution_count": 3,
     "metadata": {},
     "output_type": "execute_result"
    }
   ],
   "source": [
    "info"
   ]
  },
  {
   "cell_type": "code",
   "execution_count": 4,
   "metadata": {},
   "outputs": [
    {
     "data": {
      "text/plain": [
       "0.009527934170636639"
      ]
     },
     "execution_count": 4,
     "metadata": {},
     "output_type": "execute_result"
    }
   ],
   "source": [
    "(22)/2309"
   ]
  },
  {
   "cell_type": "code",
   "execution_count": null,
   "metadata": {},
   "outputs": [],
   "source": []
  }
 ],
 "metadata": {
  "kernelspec": {
   "display_name": "Python 3.7.9 ('base')",
   "language": "python",
   "name": "python3"
  },
  "language_info": {
   "codemirror_mode": {
    "name": "ipython",
    "version": 3
   },
   "file_extension": ".py",
   "mimetype": "text/x-python",
   "name": "python",
   "nbconvert_exporter": "python",
   "pygments_lexer": "ipython3",
   "version": "3.7.9"
  },
  "orig_nbformat": 4,
  "vscode": {
   "interpreter": {
    "hash": "cd78fef2128015050713e82ca51c6520b11aee7c9ee8df750520bbbc7384cbaa"
   }
  }
 },
 "nbformat": 4,
 "nbformat_minor": 2
}
